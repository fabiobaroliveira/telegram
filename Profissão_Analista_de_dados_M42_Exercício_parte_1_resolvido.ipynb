{
  "nbformat": 4,
  "nbformat_minor": 0,
  "metadata": {
    "colab": {
      "provenance": []
    },
    "kernelspec": {
      "name": "python3",
      "display_name": "Python 3"
    }
  },
  "cells": [
    {
      "cell_type": "markdown",
      "metadata": {
        "id": "KJqp9AANOCtf"
      },
      "source": [
        "<img src=\"https://raw.githubusercontent.com/andre-marcos-perez/ebac-course-utils/main/media/logo/newebac_logo_black_half.png\" alt=\"ebac-logo\">\n",
        "\n",
        "---\n",
        "\n",
        "# **Módulo** | Pipeline de Dados do Telegram I\n",
        "Caderno de **Exercícios**<br>\n",
        "Professor [André Perez](https://www.linkedin.com/in/andremarcosperez/)\n",
        "\n",
        "---"
      ]
    },
    {
      "cell_type": "markdown",
      "metadata": {
        "id": "d9jDtUbDOE1-"
      },
      "source": [
        "# **Tópicos**\n",
        "\n",
        "<ol type=\"1\">\n",
        "  <li>Contexto;</li>\n",
        "  <li>Telegram;</li>\n",
        "  <li>Dados.</li>\n",
        "</ol>"
      ]
    },
    {
      "cell_type": "markdown",
      "metadata": {
        "id": "SmoHgt-lwkpD"
      },
      "source": [
        "---"
      ]
    },
    {
      "cell_type": "markdown",
      "metadata": {
        "id": "GABI6OW8OfQ2"
      },
      "source": [
        "# **Exercícios**"
      ]
    },
    {
      "cell_type": "markdown",
      "metadata": {
        "id": "ne7Ay0HKaGSv"
      },
      "source": [
        "## 1\\. Telegram."
      ]
    },
    {
      "cell_type": "markdown",
      "metadata": {
        "id": "OQxOVktrzG9I"
      },
      "source": [
        "Replique as atividades da aula 2."
      ]
    },
    {
      "cell_type": "markdown",
      "source": [
        "1.1. Crie uma conta no **Telegram** caso não possua uma e faça o login na versão web da ferramenta através desse [link](https://web.telegram.org)."
      ],
      "metadata": {
        "id": "E69nBHvAa_O5"
      }
    },
    {
      "cell_type": "markdown",
      "source": [
        "1.2. Crie um *bot*."
      ],
      "metadata": {
        "id": "R9Ils6eccOLS"
      }
    },
    {
      "cell_type": "markdown",
      "source": [
        "1.3. Crie um grupo e adicione o *bot*."
      ],
      "metadata": {
        "id": "8oTn1Z1Md2GQ"
      }
    },
    {
      "cell_type": "markdown",
      "source": [
        "1.4. Torne o *bot* administrador do grupo."
      ],
      "metadata": {
        "id": "LzXWWUWzeNxt"
      }
    },
    {
      "cell_type": "markdown",
      "source": [
        "1.5. Desabilite a opção de adicionar o *bot* a novos grupos."
      ],
      "metadata": {
        "id": "_D2WT_iueaRr"
      }
    },
    {
      "cell_type": "markdown",
      "source": [
        "1.6. Envie diversos tipos de mensagens no grupo (text, imagem, arquivos, video, áudio, etc.) e as consuma utilizand a API de *bots* do **Telegram**."
      ],
      "metadata": {
        "id": "t4PyML7VUPBd"
      }
    },
    {
      "cell_type": "markdown",
      "source": [
        "> **Nota:** A documentação completa da API pode ser encontrada neste [link](https://core.telegram.org/bots/api)"
      ],
      "metadata": {
        "id": "c4MXmvWMUetr"
      }
    },
    {
      "cell_type": "code",
      "source": [
        "# Solução do item 1.6."
      ],
      "metadata": {
        "id": "y3idc49neaRt"
      },
      "execution_count": null,
      "outputs": []
    },
    {
      "cell_type": "markdown",
      "source": [
        "- Inserindo o Token API do Telegram"
      ],
      "metadata": {
        "id": "6wHI6J4peaEH"
      }
    },
    {
      "cell_type": "code",
      "source": [
        "from getpass import getpass\n",
        "\n",
        "token = getpass()"
      ],
      "metadata": {
        "colab": {
          "base_uri": "https://localhost:8080/"
        },
        "id": "f194J2BheX56",
        "outputId": "5b2370fb-9ec3-45b6-abfb-d08a6814482f"
      },
      "execution_count": null,
      "outputs": [
        {
          "name": "stdout",
          "output_type": "stream",
          "text": [
            "··········\n"
          ]
        }
      ]
    },
    {
      "cell_type": "markdown",
      "source": [
        "A `url` base é comum a todos os métodos da API."
      ],
      "metadata": {
        "id": "167IRl_-eolR"
      }
    },
    {
      "cell_type": "code",
      "source": [
        "import json\n",
        "\n",
        "import requests\n",
        "\n",
        "base_url = f'https://api.telegram.org/bot{token}'"
      ],
      "metadata": {
        "id": "a9gE68qeenG2"
      },
      "execution_count": null,
      "outputs": []
    },
    {
      "cell_type": "markdown",
      "source": [
        "- **getMe**"
      ],
      "metadata": {
        "id": "QLJ_tLpRe8U3"
      }
    },
    {
      "cell_type": "markdown",
      "source": [
        "O método `getMe` retorna informações sobre o *bot*."
      ],
      "metadata": {
        "id": "fP1AGAP2e9Ib"
      }
    },
    {
      "cell_type": "code",
      "source": [
        "response = requests.get(url=f'{base_url}/getMe')\n",
        "print(f'{base_url}/getMe')\n",
        "\n",
        "print(json.dumps(json.loads(response.text), indent=2))"
      ],
      "metadata": {
        "colab": {
          "base_uri": "https://localhost:8080/"
        },
        "id": "vpt1VY3ve9de",
        "outputId": "1a5f82d7-56f8-4ec6-d2a6-faa5b85cfb35"
      },
      "execution_count": null,
      "outputs": [
        {
          "output_type": "stream",
          "name": "stdout",
          "text": [
            "https://api.telegram.org/bot7941684699:AAH7e2FCerFUXEAL6ZJyk4eIM90uAmTjL0o/getMe\n",
            "{\n",
            "  \"ok\": true,\n",
            "  \"result\": {\n",
            "    \"id\": 7941684699,\n",
            "    \"is_bot\": true,\n",
            "    \"first_name\": \"modulo_42\",\n",
            "    \"username\": \"kimera_modulo_42_bot\",\n",
            "    \"can_join_groups\": false,\n",
            "    \"can_read_all_group_messages\": false,\n",
            "    \"supports_inline_queries\": false,\n",
            "    \"can_connect_to_business\": false,\n",
            "    \"has_main_web_app\": false\n",
            "  }\n",
            "}\n"
          ]
        }
      ]
    },
    {
      "cell_type": "markdown",
      "source": [
        " - **getUpdates**"
      ],
      "metadata": {
        "id": "5HBGh5xte-FH"
      }
    },
    {
      "cell_type": "markdown",
      "source": [
        "O método `getMe` retorna as mensagens captadas pelo *bot*."
      ],
      "metadata": {
        "id": "Pf9676Ine-0P"
      }
    },
    {
      "cell_type": "code",
      "source": [
        "response = requests.get(url=f'{base_url}/getUpdates')\n",
        "\n",
        "print(json.dumps(json.loads(response.text), indent=2))"
      ],
      "metadata": {
        "colab": {
          "base_uri": "https://localhost:8080/"
        },
        "id": "jDBHJL0de_QJ",
        "outputId": "943eca6c-be1d-46f5-8938-1ba0758674aa"
      },
      "execution_count": null,
      "outputs": [
        {
          "output_type": "stream",
          "name": "stdout",
          "text": [
            "{\n",
            "  \"ok\": true,\n",
            "  \"result\": [\n",
            "    {\n",
            "      \"update_id\": 275417580,\n",
            "      \"message\": {\n",
            "        \"message_id\": 10,\n",
            "        \"from\": {\n",
            "          \"id\": 1093577556,\n",
            "          \"is_bot\": false,\n",
            "          \"first_name\": \"Fabio\",\n",
            "          \"language_code\": \"pt-br\"\n",
            "        },\n",
            "        \"chat\": {\n",
            "          \"id\": -1002547872664,\n",
            "          \"title\": \"Modulo 42 Ebac Group\",\n",
            "          \"type\": \"supergroup\"\n",
            "        },\n",
            "        \"date\": 1751583279,\n",
            "        \"text\": \"texto\"\n",
            "      }\n",
            "    },\n",
            "    {\n",
            "      \"update_id\": 275417581,\n",
            "      \"message\": {\n",
            "        \"message_id\": 11,\n",
            "        \"from\": {\n",
            "          \"id\": 1093577556,\n",
            "          \"is_bot\": false,\n",
            "          \"first_name\": \"Fabio\",\n",
            "          \"language_code\": \"pt-br\"\n",
            "        },\n",
            "        \"chat\": {\n",
            "          \"id\": -1002547872664,\n",
            "          \"title\": \"Modulo 42 Ebac Group\",\n",
            "          \"type\": \"supergroup\"\n",
            "        },\n",
            "        \"date\": 1751583293,\n",
            "        \"document\": {\n",
            "          \"file_name\": \"div-faixa-renda.csv\",\n",
            "          \"mime_type\": \"text/csv\",\n",
            "          \"file_id\": \"BQACAgEAAyEFAASX3XOYAAMLaGcKPdDj4TWAPiI81sz2oauyLIoAAiUFAAIEtDhHR5sX-yen0pM2BA\",\n",
            "          \"file_unique_id\": \"AgADJQUAAgS0OEc\",\n",
            "          \"file_size\": 138\n",
            "        }\n",
            "      }\n",
            "    },\n",
            "    {\n",
            "      \"update_id\": 275417582,\n",
            "      \"message\": {\n",
            "        \"message_id\": 12,\n",
            "        \"from\": {\n",
            "          \"id\": 1093577556,\n",
            "          \"is_bot\": false,\n",
            "          \"first_name\": \"Fabio\",\n",
            "          \"language_code\": \"pt-br\"\n",
            "        },\n",
            "        \"chat\": {\n",
            "          \"id\": -1002547872664,\n",
            "          \"title\": \"Modulo 42 Ebac Group\",\n",
            "          \"type\": \"supergroup\"\n",
            "        },\n",
            "        \"date\": 1751583296,\n",
            "        \"text\": \"arquivo\"\n",
            "      }\n",
            "    },\n",
            "    {\n",
            "      \"update_id\": 275417583,\n",
            "      \"message\": {\n",
            "        \"message_id\": 13,\n",
            "        \"from\": {\n",
            "          \"id\": 1093577556,\n",
            "          \"is_bot\": false,\n",
            "          \"first_name\": \"Fabio\",\n",
            "          \"language_code\": \"pt-br\"\n",
            "        },\n",
            "        \"chat\": {\n",
            "          \"id\": -1002547872664,\n",
            "          \"title\": \"Modulo 42 Ebac Group\",\n",
            "          \"type\": \"supergroup\"\n",
            "        },\n",
            "        \"date\": 1751583311,\n",
            "        \"voice\": {\n",
            "          \"duration\": 3,\n",
            "          \"mime_type\": \"audio/ogg\",\n",
            "          \"file_id\": \"AwACAgEAAyEFAASX3XOYAAMNaGcKT9irN87uL3eWjpJ5X6PxQXUAAiYFAAIEtDhHAloshfXfNVE2BA\",\n",
            "          \"file_unique_id\": \"AgADJgUAAgS0OEc\",\n",
            "          \"file_size\": 44887\n",
            "        }\n",
            "      }\n",
            "    },\n",
            "    {\n",
            "      \"update_id\": 275417584,\n",
            "      \"message\": {\n",
            "        \"message_id\": 14,\n",
            "        \"from\": {\n",
            "          \"id\": 1093577556,\n",
            "          \"is_bot\": false,\n",
            "          \"first_name\": \"Fabio\",\n",
            "          \"language_code\": \"pt-br\"\n",
            "        },\n",
            "        \"chat\": {\n",
            "          \"id\": -1002547872664,\n",
            "          \"title\": \"Modulo 42 Ebac Group\",\n",
            "          \"type\": \"supergroup\"\n",
            "        },\n",
            "        \"date\": 1751583321,\n",
            "        \"photo\": [\n",
            "          {\n",
            "            \"file_id\": \"AgACAgEAAyEFAASX3XOYAAMOaGcKWGLeDYO7l9wV8cniCYgAAftXAAK1rjEbBLQ4R-Ai4RZa1o0cAQADAgADcwADNgQ\",\n",
            "            \"file_unique_id\": \"AQADta4xGwS0OEd4\",\n",
            "            \"file_size\": 610,\n",
            "            \"width\": 90,\n",
            "            \"height\": 32\n",
            "          },\n",
            "          {\n",
            "            \"file_id\": \"AgACAgEAAyEFAASX3XOYAAMOaGcKWGLeDYO7l9wV8cniCYgAAftXAAK1rjEbBLQ4R-Ai4RZa1o0cAQADAgADbQADNgQ\",\n",
            "            \"file_unique_id\": \"AQADta4xGwS0OEdy\",\n",
            "            \"file_size\": 9103,\n",
            "            \"width\": 320,\n",
            "            \"height\": 114\n",
            "          },\n",
            "          {\n",
            "            \"file_id\": \"AgACAgEAAyEFAASX3XOYAAMOaGcKWGLeDYO7l9wV8cniCYgAAftXAAK1rjEbBLQ4R-Ai4RZa1o0cAQADAgADeAADNgQ\",\n",
            "            \"file_unique_id\": \"AQADta4xGwS0OEd9\",\n",
            "            \"file_size\": 35252,\n",
            "            \"width\": 800,\n",
            "            \"height\": 284\n",
            "          },\n",
            "          {\n",
            "            \"file_id\": \"AgACAgEAAyEFAASX3XOYAAMOaGcKWGLeDYO7l9wV8cniCYgAAftXAAK1rjEbBLQ4R-Ai4RZa1o0cAQADAgADeQADNgQ\",\n",
            "            \"file_unique_id\": \"AQADta4xGwS0OEd-\",\n",
            "            \"file_size\": 50257,\n",
            "            \"width\": 1024,\n",
            "            \"height\": 364\n",
            "          }\n",
            "        ]\n",
            "      }\n",
            "    },\n",
            "    {\n",
            "      \"update_id\": 275417585,\n",
            "      \"message\": {\n",
            "        \"message_id\": 15,\n",
            "        \"from\": {\n",
            "          \"id\": 1093577556,\n",
            "          \"is_bot\": false,\n",
            "          \"first_name\": \"Fabio\",\n",
            "          \"language_code\": \"pt-br\"\n",
            "        },\n",
            "        \"chat\": {\n",
            "          \"id\": -1002547872664,\n",
            "          \"title\": \"Modulo 42 Ebac Group\",\n",
            "          \"type\": \"supergroup\"\n",
            "        },\n",
            "        \"date\": 1751583469,\n",
            "        \"text\": \"\\ud83d\\ude05\"\n",
            "      }\n",
            "    },\n",
            "    {\n",
            "      \"update_id\": 275417586,\n",
            "      \"message\": {\n",
            "        \"message_id\": 16,\n",
            "        \"from\": {\n",
            "          \"id\": 1093577556,\n",
            "          \"is_bot\": false,\n",
            "          \"first_name\": \"Fabio\",\n",
            "          \"language_code\": \"pt-br\"\n",
            "        },\n",
            "        \"chat\": {\n",
            "          \"id\": -1002547872664,\n",
            "          \"title\": \"Modulo 42 Ebac Group\",\n",
            "          \"type\": \"supergroup\"\n",
            "        },\n",
            "        \"date\": 1751583479,\n",
            "        \"text\": \"\\ud83e\\udde0\"\n",
            "      }\n",
            "    },\n",
            "    {\n",
            "      \"update_id\": 275417587,\n",
            "      \"message\": {\n",
            "        \"message_id\": 17,\n",
            "        \"from\": {\n",
            "          \"id\": 1093577556,\n",
            "          \"is_bot\": false,\n",
            "          \"first_name\": \"Fabio\",\n",
            "          \"language_code\": \"pt-br\"\n",
            "        },\n",
            "        \"chat\": {\n",
            "          \"id\": -1002547872664,\n",
            "          \"title\": \"Modulo 42 Ebac Group\",\n",
            "          \"type\": \"supergroup\"\n",
            "        },\n",
            "        \"date\": 1751583488,\n",
            "        \"text\": \"oi\"\n",
            "      }\n",
            "    }\n",
            "  ]\n",
            "}\n"
          ]
        }
      ]
    }
  ]
}